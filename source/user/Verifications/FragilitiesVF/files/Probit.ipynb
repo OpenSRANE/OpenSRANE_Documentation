{
 "cells": [
  {
   "attachments": {},
   "cell_type": "markdown",
   "id": "313f547a",
   "metadata": {},
   "source": [
    "## Probits"
   ]
  },
  {
   "cell_type": "code",
   "execution_count": null,
   "id": "a82dd65e",
   "metadata": {},
   "outputs": [],
   "source": [
    "import opensrane as opr\n",
    "import matplotlib.pyplot as plt"
   ]
  },
  {
   "attachments": {},
   "cell_type": "markdown",
   "id": "36cbb194",
   "metadata": {},
   "source": [
    "#### Create a Probit objec with normal and lognormal distribution and check properties:"
   ]
  },
  {
   "cell_type": "code",
   "execution_count": null,
   "id": "847517e4",
   "metadata": {},
   "outputs": [],
   "source": [
    "opr.wipe()\n",
    "\n",
    "opr.Fragilities.Probit(tag=1,Distribution_Type='normal',K1=5,K2=2)\n",
    "opr.Fragilities.Probit(2,'normal',3,2)\n",
    "opr.Fragilities.Probit(3,'lognormal',4,3)\n",
    "opr.Fragilities.Probit(4,'lognormal',4.5,3)\n",
    "opr.Fragilities.Fragility(5,Distribution_Type='normal',mean=5,StdDev=3.3)\n",
    "\n",
    "for obj in opr.Fragilities.ObjManager.Objlst:\n",
    "    print(obj.name)\n",
    "    \n"
   ]
  },
  {
   "attachments": {},
   "cell_type": "markdown",
   "id": "7b476a12",
   "metadata": {},
   "source": [
    "#### Create a Probit objec with normal distribution and check its distribution with Excel resutls:"
   ]
  },
  {
   "cell_type": "code",
   "execution_count": null,
   "id": "4c8b5e78",
   "metadata": {},
   "outputs": [],
   "source": [
    "#Verification for normal distribution\n",
    "opr.wipe()\n",
    "\n",
    "obj=opr.Fragilities.Probit(1,Distribution_Type='normal', K1=1, K2=0.5)\n",
    "#Excel results for mean=5 and std=2\n",
    "Excel=[3.39767312473005E-06,3.16712418331199E-05,0.000232629079035525,0.00134989803163009,0.00620966532577613,0.0227501319481792,0.0668072012688581,0.158655253931457,0.308537538725987,0.5,0.691462461274013,0.841344746068543,0.933192798731142,0.977249868051821,0.993790334674224,0.99865010196837,0.999767370920964,0.999968328758167,0.999996602326875,0.999999713348428,0.999999981010438,0.999999999013412,0.99999999995984]\n",
    "\n",
    "#Excel range of the Random Variable\n",
    "Dose=[i/2 for i in range(23)]\n",
    "\n",
    "#List of generated values by Created Object (obj)\n",
    "Generated=[obj.GetProbability(i) for i in Dose]\n",
    "\n",
    "\n",
    "plt.figure()\n",
    "plt.plot(Dose,Excel,label='Excel')\n",
    "plt.plot(Dose,Generated,label='Generated')\n",
    "plt.legend()\n",
    "plt.xlabel('Dose')\n",
    "plt.ylabel('Probability')\n",
    "plt.title(f'CDF Distribution for distribution={obj.DistType} mean={obj.mean} and std={obj.StdDev}',color='g')\n",
    "plt.show()"
   ]
  },
  {
   "attachments": {},
   "cell_type": "markdown",
   "id": "3fd5bbbf",
   "metadata": {},
   "source": [
    "#### Create a Probit objec with normal distribution and check its distribution with Excel resutls:"
   ]
  },
  {
   "cell_type": "code",
   "execution_count": null,
   "id": "6bb8660d",
   "metadata": {},
   "outputs": [],
   "source": [
    "#Verification for log normal distribution\n",
    "opr.wipe()\n",
    "\n",
    "obj=opr.Fragilities.Probit(1,Distribution_Type='lognormal', K1=1, K2=0.5)\n",
    "#Excel results for mean=5 and std=2\n",
    "Excel=[4.30656462230891E-20,0.0139954138003093,0.0662562227267046,0.135927084948079,0.208648223994374,0.278273867277455,0.342497894582516,0.400711942041258,0.453044380936582,0.499924069447986,0.541879616184157,0.579447543942368,0.613132088240471,0.643389800296413,0.670626009729306,0.695196771402629,0.717413125048509,0.737546096844058,0.755831684715014,0.772475484841812,0.787656828725862,0.801532406011979,0.8142393985932,0.8258981728861,0.836614583647308,0.846481941822576,0.855582694679972,0.863989860981988,0.871768258271563,0.878975554000964,0.885663167438306,0.891877045105856,0.897658328920541,0.903043933167712,0.908067043878904,0.912757552036115,0.917142430226971,0.921246060871349,0.925090522882637,0.928695842574893,0.932080213746174,0.935260191129611,0.938250860783288,0.941065990467936,0.943718162621335,0.946218892166573,0.948578731076635,0.950807361350948,0.952913677832627,0.954905862101998,0.956791448517015]\n",
    "\n",
    "#Excel range of the Random Variable\n",
    "Dose=[0.01]+[i*10 for i in range(1,51)]\n",
    "\n",
    "#List of generated values by Created Object (obj)\n",
    "Generated=[obj.GetProbability(i) for i in Dose]\n",
    "\n",
    "\n",
    "plt.figure()\n",
    "plt.plot(Dose,Excel,label='Excel')\n",
    "plt.plot(Dose,Generated,label='Generated')\n",
    "plt.legend()\n",
    "plt.xlabel('Dose')\n",
    "plt.ylabel('Probability')\n",
    "plt.title(f'CDF Dist-Type={obj.DistType} mean={obj.mean} and std={obj.StdDev}',color='g')\n",
    "plt.show()"
   ]
  },
  {
   "cell_type": "code",
   "execution_count": null,
   "id": "3c314b1e",
   "metadata": {},
   "outputs": [],
   "source": [
    "opr.Plot.Plotly.PlotProbits(StdNumber=1000,NPoints=500)"
   ]
  },
  {
   "cell_type": "code",
   "execution_count": null,
   "id": "e82f1d21",
   "metadata": {},
   "outputs": [],
   "source": [
    "opr.Plot.Plotly.PlotFragilities()"
   ]
  }
 ],
 "metadata": {
  "kernelspec": {
   "display_name": "Python 3 (ipykernel)",
   "language": "python",
   "name": "python3"
  },
  "language_info": {
   "codemirror_mode": {
    "name": "ipython",
    "version": 3
   },
   "file_extension": ".py",
   "mimetype": "text/x-python",
   "name": "python",
   "nbconvert_exporter": "python",
   "pygments_lexer": "ipython3",
   "version": "3.9.13"
  },
  "vp": {
   "vp_config_version": "1.0.0",
   "vp_menu_width": 273,
   "vp_note_display": false,
   "vp_note_width": 0,
   "vp_position": {
    "width": 278
   },
   "vp_section_display": false,
   "vp_signature": "VisualPython"
  }
 },
 "nbformat": 4,
 "nbformat_minor": 5
}
