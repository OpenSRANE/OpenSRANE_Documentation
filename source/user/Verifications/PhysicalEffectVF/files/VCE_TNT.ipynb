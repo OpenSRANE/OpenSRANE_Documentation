{
 "cells": [
  {
   "cell_type": "code",
   "execution_count": null,
   "id": "45cdb907",
   "metadata": {},
   "outputs": [],
   "source": [
    "import opensrane as opr\n",
    "import matplotlib.pyplot as plt"
   ]
  },
  {
   "attachments": {},
   "cell_type": "markdown",
   "id": "0769f0d7",
   "metadata": {},
   "source": [
    "### VCE_TNT (Physical Effect Model)\n",
    "#### casal TNT method for VCE\n",
    "\n",
    "Verification with casal book Example 4.1\n",
    "\n",
    "ATTENTION: PARAMETERS ARE SET HOW THE OTHE VALUES BECOME EQUAL TO THE CASAL Above EXAMPLE HYPOTHESISES\n"
   ]
  },
  {
   "cell_type": "code",
   "execution_count": null,
   "id": "f7bae02e",
   "metadata": {},
   "outputs": [],
   "source": [
    "opr.wipe()\n",
    "\n",
    "#Define Wind Rose \n",
    "windobj=opr.WindData.WindRose(1)\n",
    "windobj.WindSpeed=0\n",
    "windobj.WindDirection=90\n",
    "\n",
    "#Define Site Condition and Geometry\n",
    "SiteTAg=1\n",
    "obj=opr.Sites.Site(SiteTAg, Temperature=16+273, Pressure=1.013*10**5, XSiteBoundary=[0,100,100,0], YSiteBoundary=[0,0,100,100],\n",
    "                   g=9.81,Humidity=0.79,Airdensity=0.270)\n",
    "\n",
    "#Define Substance\n",
    "propane=1\n",
    "subsobj=opr.Substance.Material(propane,name='Propane',Density=553,GasDensity=1,BoilingPointGasDensity=2.32, Specific_Heat_Ratio=1.15,\n",
    "                               Molecular_Weight=44.1/1000, Specific_Heat_of_Combustion=43.930*10**6,\n",
    "                               Lower_Flammability_Limit=0.2, Upper_Flammability_Limit=0.7,)\n",
    "\n",
    "#Define OutFlow Model\n",
    "OutflowObj=opr.OutFlowModel.GasUnitHole(tag=1, Hole_Diameter=0.1, Total_t=20, Cd=1, Gas_Constant=8.31446261815324)\n",
    "\n",
    "#Define Dispersion Model\n",
    "DispObj=opr.DispersionSpreadModels.BritterMcQuaid(tag=1, MatTags=1, OutFlowModelTags=[1], MassParts=20,)\n",
    "\n",
    "#Define Dike for Tanks\n",
    "opr.Safety.Dike(1,0,3.1415*6**2/4)\n",
    "\n",
    "#Define Plant Unit \n",
    "PlantObj=opr.PlantUnits.ONGStorage(1,SiteTag=1,DikeTag=1, SubstanceTag=1,  Diameter=10, Pressure= 1.769025*10**5, Temperature=16+273,\n",
    "                                   Horizontal_localPosition=0,    Vertical_localPosition=0,\n",
    "                                   Height=20,SubstanceVolumeRatio=0.9)\n",
    "\n",
    "#Manually define OutFlow Model for above Unit Object\n",
    "PlantObj.OutFlowModelObject=OutflowObj\n",
    "OutflowObj.UnitObject=PlantObj\n",
    "PlantObj.OutFlowModelObject.Calculate()\n",
    "\n",
    "\n",
    "#Manually define DispersionSpread Model for above Unit Object\n",
    "PlantObj.DispersionSpreadModelObject=DispObj\n",
    "PlantObj.DispersionSpreadModelObject.UnitObject=PlantObj\n",
    "PlantObj.DispersionSpreadModelObject.Calculate()\n",
    "\n",
    "print(\"Exposive mass =\",DispObj.GasExplosiveMass)\n",
    "print(\"Explosive Mass center = \", DispObj.GasExplosiveCenterX,DispObj.GasExplosiveCenterY,DispObj.GasExplosiveCenterZ)\n",
    "\n",
    "\n",
    "\n",
    "obj=opr.PhysicalEffect.VCE_TNT(1)\n",
    "obj.UnitObject=PlantObj\n",
    "obj.Calculate()\n",
    "dP=obj.OverPressure_at_Point(DispObj.GasExplosiveCenterX[0]+500,0,0)\n",
    "print(\"The Over Pressure Value in 500 m Over Explosive mass Center =\",dP/10**5, \" Bar\")"
   ]
  },
  {
   "cell_type": "code",
   "execution_count": null,
   "id": "9eb5cf20",
   "metadata": {},
   "outputs": [],
   "source": [
    "print('in casal Example 4.1, \\nd=500 m \\nM (Explosive Mass)= 30,000 \\nDeltaHc=43930*1000')\n",
    "print('And the result of over pressure is = 0.049 Bar')\n",
    "print('That is compatible with the above results!')"
   ]
  },
  {
   "cell_type": "code",
   "execution_count": null,
   "id": "bdb06e74",
   "metadata": {},
   "outputs": [],
   "source": [
    "#Plot Variation Of Over Pressure\n",
    "X=[i for i in range(202,210)]\n",
    "dP=[]\n",
    "for x in X:\n",
    "    dP.append(obj.OverPressure_at_Point(x,0,0))\n",
    "    \n",
    "plt.figure(2)\n",
    "plt.plot(X,dP)\n",
    "plt.title(\"OverPressure - Distance\")\n",
    "plt.xlabel(\"Distance (m)\")\n",
    "plt.ylabel(\"OverPressure (N/m^2)\");"
   ]
  }
 ],
 "metadata": {
  "kernelspec": {
   "display_name": "Python 3 (ipykernel)",
   "language": "python",
   "name": "python3"
  },
  "language_info": {
   "codemirror_mode": {
    "name": "ipython",
    "version": 3
   },
   "file_extension": ".py",
   "mimetype": "text/x-python",
   "name": "python",
   "nbconvert_exporter": "python",
   "pygments_lexer": "ipython3",
   "version": "3.11.5"
  },
  "vp": {
   "vp_config_version": "1.0.0",
   "vp_menu_width": 273,
   "vp_note_display": false,
   "vp_note_width": 0,
   "vp_position": {
    "width": 278
   },
   "vp_section_display": false,
   "vp_signature": "VisualPython"
  }
 },
 "nbformat": 4,
 "nbformat_minor": 5
}
