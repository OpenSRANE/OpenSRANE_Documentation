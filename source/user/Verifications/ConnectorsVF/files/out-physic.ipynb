{
 "cells": [
  {
   "cell_type": "code",
   "execution_count": null,
   "id": "ba0644ce",
   "metadata": {},
   "outputs": [],
   "source": [
    "import opensrane as opr\n",
    "import matplotlib.pyplot as plt"
   ]
  },
  {
   "attachments": {},
   "cell_type": "markdown",
   "id": "7efe267e",
   "metadata": {},
   "source": [
    "### In the following example the selection of the outflow models according to defined distribution has been checked for Out-Physic class:"
   ]
  },
  {
   "cell_type": "code",
   "execution_count": null,
   "id": "b9dbb31d",
   "metadata": {},
   "outputs": [],
   "source": [
    "#Verify Out_Physic Distribution\n",
    "opr.wipe()\n",
    "\n",
    "#Define Physical Effect models\n",
    "opr.PhysicalEffect.fire_point_source(tag=1, minf=0.055, k=1.5)\n",
    "opr.PhysicalEffect.fire_point_source(tag=2, minf=0.06, k=1.3)\n",
    "opr.PhysicalEffect.SAFE(3)\n",
    "opr.PhysicalEffect.VCE_TNT(4)\n",
    "\n",
    "#Define a DS_LOC \n",
    "DSLOCOBJ=opr.Connectors.Out_Physic(tag=1,OutFlowTag=1,MaterialsTagList=[1],PhysicalEffectTagList=[1,4,3],PhysProbabilityList=[6,3,1])\n",
    "\n",
    "Generated=[]\n",
    "for i in range(100):\n",
    "    N=1000\n",
    "    rslt=dict()\n",
    "    rslt={i:0 for i in DSLOCOBJ.PhysicalEffectTagList}\n",
    "    for i in range(N):\n",
    "        obj=DSLOCOBJ.Give1PhysicalEffectModel()\n",
    "        rslt[obj.tag]=rslt[obj.tag]+1\n",
    "\n",
    "    for i,j in rslt.items():\n",
    "        rslt[i]=j/N\n",
    "    \n",
    "    Generated.append(rslt)\n",
    "\n",
    "plt.figure()\n",
    "\n",
    "plt.plot([0.6 for i in Generated], color='green',linestyle='dashed')\n",
    "plt.plot([0.3 for i in Generated], color='green',linestyle='dashed')\n",
    "plt.plot([0.1 for i in Generated], color='green',linestyle='dashed')\n",
    "\n",
    "plt.plot([i[1] for i in Generated], label='Reults for PhysicalEffect 1 with Probability 0.6')\n",
    "plt.plot([i[4] for i in Generated], label='Reults for PhysicalEffect 4 with Probability 0.3')\n",
    "plt.plot([i[3] for i in Generated], label='Reults for PhysicalEffect 3 with Probability 0.1')\n",
    "\n",
    "plt.title('Resutls of 1000 sampling in 100 repeating test')\n",
    "plt.xlabel('Test Number')\n",
    "plt.ylabel('Frequency of Occurance')\n",
    "plt.ylim(0,0.8)\n",
    "plt.legend(loc=2,fontsize = 9);\n"
   ]
  }
 ],
 "metadata": {
  "kernelspec": {
   "display_name": "Python 3 (ipykernel)",
   "language": "python",
   "name": "python3"
  },
  "language_info": {
   "codemirror_mode": {
    "name": "ipython",
    "version": 3
   },
   "file_extension": ".py",
   "mimetype": "text/x-python",
   "name": "python",
   "nbconvert_exporter": "python",
   "pygments_lexer": "ipython3",
   "version": "3.11.5"
  },
  "vp": {
   "vp_config_version": "1.0.0",
   "vp_menu_width": 273,
   "vp_note_display": false,
   "vp_note_width": 0,
   "vp_position": {
    "width": 278
   },
   "vp_section_display": false,
   "vp_signature": "VisualPython"
  }
 },
 "nbformat": 4,
 "nbformat_minor": 5
}
