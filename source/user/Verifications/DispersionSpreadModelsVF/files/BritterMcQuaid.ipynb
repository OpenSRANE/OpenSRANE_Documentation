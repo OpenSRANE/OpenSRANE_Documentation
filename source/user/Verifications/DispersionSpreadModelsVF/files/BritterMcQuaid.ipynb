{
 "cells": [
  {
   "cell_type": "code",
   "execution_count": null,
   "id": "5deb82b1",
   "metadata": {},
   "outputs": [],
   "source": [
    "import opensrane as opr\n",
    "import matplotlib.pyplot as plt\n",
    "import plotly.graph_objects as go\n",
    "from copy import deepcopy"
   ]
  },
  {
   "cell_type": "markdown",
   "id": "5ac61ef5",
   "metadata": {},
   "source": [
    "## Gas Dispersion\n",
    "### Britter MacQuaid Model\n",
    "\n",
    "In this model a Britter macQuiad Gas Dispersion for plant units has been used: "
   ]
  },
  {
   "cell_type": "code",
   "execution_count": null,
   "id": "2848ed71",
   "metadata": {},
   "outputs": [],
   "source": [
    "opr.wipe()\n",
    "\n",
    "opr.Sites.Site(tag=1, Temperature=20+273, Pressure=1.013*10**5,  g=9.81,    OngroundTemprature=20, Airdensity=1.21)\n",
    "\n",
    "windobj=opr.WindData.WindRose(1)\n",
    "windobj.WindDirection=90\n",
    "windobj.WindSpeed=5.2\n",
    "\n",
    "propane=1\n",
    "opr.Substance.Material(propane,Density=553,GasDensity=1, BoilingPointGasDensity=2.32, Specific_Heat_Ratio=1.15,Molecular_Weight=44.1/1000,\n",
    "                       Lower_Flammability_Limit=0.3,Upper_Flammability_Limit=0.7)\n",
    "\n",
    "OutFlowObj=opr.OutFlowModel.GasUnitHole(1, Hole_Diameter=0.02, Total_t=20, Cd=1, Gas_Constant=8.31446261815324)\n",
    "\n",
    "DispObj=opr.DispersionSpreadModels.BritterMcQuaid(1, MatTags=[1], OutFlowModelTags=[1],)\n",
    "\n",
    "\n",
    "\n",
    "UniObj=opr.PlantUnits.ONGStorage(tag=1, SiteTag=1, SubstanceTag=1, FragilityTagNumbers=[1], Horizontal_localPosition=0,\n",
    "                                  Vertical_localPosition=0, Pressure=375*10**5,  Temperature=-42+273,  \n",
    "                                  SubstanceVolumeRatio=1,\n",
    "                                  Diameter=10, Height=10)\n",
    "\n",
    "#Do the Analysis Part Handy\n",
    "UniObj.OutFlowModelObject=OutFlowObj\n",
    "UniObj.OutFlowModelObject.UnitObject=UniObj\n",
    "UniObj.OutFlowModelObject.Calculate()\n",
    "# print(mdot[0])\n",
    "\n",
    "UniObj.DispersionSpreadModelObject=DispObj\n",
    "UniObj.DispersionSpreadModelObject.UnitObject=UniObj\n",
    "UniObj.DispersionSpreadModelObject.Calculate()\n",
    "\n",
    "#To get Concentration at a specific distance\n",
    "print('Concentration at distance 340 m is=',UniObj.DispersionSpreadModelObject.GasConcentration(340,0,0))\n",
    "print('The result is compatible with what is solved in cascal book example 7.5 for LFL=2.1%')"
   ]
  },
  {
   "cell_type": "code",
   "execution_count": null,
   "id": "d5726a9d",
   "metadata": {},
   "outputs": [],
   "source": [
    "#Get Distance Corresponding to a Concentration\n",
    "print('Distance Corresponding to the Concentration 0.021 is=',UniObj.DispersionSpreadModelObject.Concdist(0.021)[0])\n",
    "print('The result is compatible with what is solved in cascal book example 7.5 for LFL=2.1% that is 340 m')\n"
   ]
  },
  {
   "cell_type": "code",
   "execution_count": null,
   "id": "a9eaae0c",
   "metadata": {},
   "outputs": [],
   "source": [
    "#Get the Explosive mass value and its center of mass\n",
    "print(\"Explosive mass = \", UniObj.DispersionSpreadModelObject.GasExplosiveMass)\n",
    "print(\"Explosive mass XCenter =\", UniObj.DispersionSpreadModelObject.GasExplosiveCenterX)\n",
    "print(\"Explosive mass YCenter =\", UniObj.DispersionSpreadModelObject.GasExplosiveCenterY)\n",
    "print(\"Explosive mass ZCenter =\", UniObj.DispersionSpreadModelObject.GasExplosiveCenterZ)\n"
   ]
  },
  {
   "cell_type": "code",
   "execution_count": null,
   "id": "e78b242f",
   "metadata": {
    "scrolled": false
   },
   "outputs": [],
   "source": [
    "C=[]\n",
    "for x in [i/10 for i in range(-300,3000)]:\n",
    "    c=UniObj.DispersionSpreadModelObject.GasConcentration(x,0,0)\n",
    "    C.append(c)\n",
    "plt.figure(0)\n",
    "plt.plot([i/10 for i in range(-300,3000)],C)\n",
    "plt.title('Concentgration-Distance')\n",
    "plt.xlabel('Distance')\n",
    "plt.ylabel('Concetration');\n",
    "plt.show()"
   ]
  },
  {
   "cell_type": "code",
   "execution_count": null,
   "id": "4acb2adf",
   "metadata": {
    "scrolled": false
   },
   "outputs": [],
   "source": [
    "CC0=[1,0.8,0.7,0.5,0.3,0.2,0.1,0.05,0.02,0.01,0.005,0.002]\n",
    "Lvv=[]\n",
    "X=[]\n",
    "for C in CC0:\n",
    "    [Point1,Point2,Lv,Lu]=UniObj.DispersionSpreadModelObject.GiveBoundary(C)\n",
    "#     print(Point1,Point2)\n",
    "    X.append(Point1[0])\n",
    "    Lvv.append(Lv)\n",
    "    \n",
    "plt.figure(1)\n",
    "plt.plot(X,Lvv)\n",
    "plt.title('Concentration Height-Distance')\n",
    "plt.xlabel('Distance')\n",
    "plt.ylabel('Concentration Height');\n",
    "plt.show()"
   ]
  },
  {
   "cell_type": "markdown",
   "id": "c329e292",
   "metadata": {},
   "source": [
    "### Britter MacQuaid Model (Another Practice)\n",
    "\n",
    "In this model a Britter macQuiad Gas Dispersion for plant units"
   ]
  },
  {
   "cell_type": "code",
   "execution_count": null,
   "id": "dadf8414",
   "metadata": {},
   "outputs": [],
   "source": [
    "opr.wipe()\n",
    "\n",
    "opr.Sites.Site(tag=1, Temperature=20+273, Pressure=1.013*10**5,  g=9.81,    OngroundTemprature=20, Airdensity=1.21)\n",
    "\n",
    "windobj=opr.WindData.WindRose(1)\n",
    "windobj.WindDirection=90\n",
    "windobj.WindSpeed=5.2\n",
    "\n",
    "propane=1\n",
    "opr.Substance.Material(propane,Density=553,GasDensity=1,BoilingPointGasDensity=2.32,Specific_Heat_Ratio=1.15,Molecular_Weight=44.1,\n",
    "                      Lower_Flammability_Limit=0.3,Upper_Flammability_Limit=0.7)\n",
    "\n",
    "OutFlowObj=opr.OutFlowModel.GasUnitHole(1, Hole_Diameter=0.02, Total_t=20, Cd=1, Gas_Constant=8.31446261815324,)\n",
    "\n",
    "DispObj=opr.DispersionSpreadModels.BritterMcQuaid(1, MatTags=[1], OutFlowModelTags=[1])\n",
    "\n",
    "\n",
    "\n",
    "UniObj=opr.PlantUnits.ONGStorage( tag=1, SiteTag=1, SubstanceTag=1, FragilityTagNumbers=[1],  Horizontal_localPosition=0,\n",
    "                                  Vertical_localPosition=0, Pressure=20*10**5,  Temperature=-42+273,  SubstanceVolumeRatio=1,\n",
    "                                  Diameter=10, Height=10)\n",
    "\n",
    "#Do the Analysis Part Handy\n",
    "UniObj.OutFlowModelObject=OutFlowObj\n",
    "UniObj.OutFlowModelObject.UnitObject=UniObj\n",
    "UniObj.OutFlowModelObject.Calculate()\n",
    "# print(dm[0])\n",
    "\n",
    "UniObj.DispersionSpreadModelObject=DispObj\n",
    "UniObj.DispersionSpreadModelObject.UnitObject=UniObj\n",
    "UniObj.DispersionSpreadModelObject.Calculate()\n",
    "\n",
    "\n"
   ]
  },
  {
   "cell_type": "code",
   "execution_count": null,
   "id": "c7763530",
   "metadata": {},
   "outputs": [],
   "source": [
    "C=[]\n",
    "for x in [i/10 for i in range(-100,5000)]:\n",
    "    c=UniObj.DispersionSpreadModelObject.GasConcentration(x,0,0)\n",
    "    C.append(c)\n",
    "plt.figure(2)\n",
    "plt.plot([i/10 for i in range(-100,5000)],C)\n",
    "\n",
    "plt.title('Concentgration-Distance')\n",
    "plt.xlabel('Distance')\n",
    "plt.ylabel('Concetration');\n",
    "plt.show()"
   ]
  },
  {
   "cell_type": "code",
   "execution_count": null,
   "id": "2050905c",
   "metadata": {
    "scrolled": false
   },
   "outputs": [],
   "source": [
    "CC0=[1,0.8,0.7,0.5,0.3,0.2,0.1,0.05,0.02,0.01,0.005,0.002]\n",
    "Lvv=[]\n",
    "X=[]\n",
    "for C in CC0:\n",
    "    [Point1,Point2,Lv,Lu]=UniObj.DispersionSpreadModelObject.GiveBoundary(C)\n",
    "#     print(Point1,Point2)\n",
    "    X.append(Point1[0])\n",
    "    Lvv.append(Lv)\n",
    "    \n",
    "plt.figure(3)\n",
    "plt.plot(X,Lvv)\n",
    "plt.title('Concentration Height-Distance')\n",
    "plt.xlabel('Distance')\n",
    "plt.ylabel('Concentration Height');\n",
    "plt.show()"
   ]
  }
 ],
 "metadata": {
  "kernelspec": {
   "display_name": "Python 3 (ipykernel)",
   "language": "python",
   "name": "python3"
  },
  "language_info": {
   "codemirror_mode": {
    "name": "ipython",
    "version": 3
   },
   "file_extension": ".py",
   "mimetype": "text/x-python",
   "name": "python",
   "nbconvert_exporter": "python",
   "pygments_lexer": "ipython3",
   "version": "3.11.5"
  },
  "vp": {
   "vp_config_version": "1.0.0",
   "vp_menu_width": 273,
   "vp_note_display": false,
   "vp_note_width": 0,
   "vp_position": {
    "width": 278
   },
   "vp_section_display": false,
   "vp_signature": "VisualPython"
  }
 },
 "nbformat": 4,
 "nbformat_minor": 5
}
