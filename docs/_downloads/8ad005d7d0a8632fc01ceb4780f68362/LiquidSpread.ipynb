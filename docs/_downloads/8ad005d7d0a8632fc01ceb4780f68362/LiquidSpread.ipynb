{
 "cells": [
  {
   "cell_type": "code",
   "execution_count": 1,
   "id": "5deb82b1",
   "metadata": {},
   "outputs": [],
   "source": [
    "import opensrane as opr\n",
    "import matplotlib.pyplot as plt\n",
    "import plotly.graph_objects as go\n",
    "from copy import deepcopy"
   ]
  },
  {
   "cell_type": "markdown",
   "id": "edef2cc0",
   "metadata": {},
   "source": [
    "### Liquid Spread"
   ]
  },
  {
   "cell_type": "code",
   "execution_count": null,
   "id": "1b50d278",
   "metadata": {},
   "outputs": [],
   "source": [
    "#Verification for Pool Liquid Spread\n",
    "opr.wipe()\n",
    "\n",
    "SiteTAg=1\n",
    "opr.Sites.Site(SiteTAg, Temperature=40,Pressure=1*10197.16)\n",
    "\n",
    "#Define Material\n",
    "Subsobj=opr.Substance.DataBank.CasCalEx2_1(tag=1)\n",
    "\n",
    "#Define Outflow Models\n",
    "OutFlowObj=opr.OutFlowModel.TankHole(tag=1, Hole_Diameter=0.1, Hole_Height_FromBot=0, delta_t=100, Cd=1)\n",
    "\n",
    "#Define Dispesion Spread Models and their connections to the materials and outflows\n",
    "DispObject=opr.DispersionSpreadModels.LiquidSpread(tag=1, MatTags=[1], OutFlowModelTags=[1],\n",
    "                                                   MinDisThickness=0.005,Surface_Roughnesslist=[0.1,0.2,0.3],\n",
    "                                                   Surface_RoughnessThickness=[0.01,0.015,0.02])\n",
    "\n",
    "#Define Plant Unit\n",
    "UnitObj=opr.PlantUnits.ONGStorage(1,SiteTag=SiteTAg,\n",
    "                                    Horizontal_localPosition=10,Vertical_localPosition=15,\n",
    "                                    Diameter=5,Height=10,\n",
    "                                    SubstanceTag=1,SubstanceVolumeRatio=0.85,Surface_Roughness=0.2)\n",
    "\n",
    "#Handy Calculations\n",
    "VSubs=3.1415*5**2/4*10*0.85\n",
    "MassSub=Subsobj.Density*VSubs\n",
    "PoolArea=VSubs/0.015\n",
    "PoolRadius=(PoolArea*4/3.1415)**0.5/2\n",
    "\n",
    "#These steps will be done Automatically By the Program inside the Analysis Part\n",
    "UnitObj.OutFlowModelObject=deepcopy(OutFlowObj)  #Assign OutFlow Model to Unit Object\n",
    "UnitObj.OutFlowModelObject.UnitObject=UnitObj\n",
    "UnitObj.OutFlowModelObject.Calculate();          #Calculate OutFlow Calculations to get \n",
    "\n",
    "\n",
    "UnitObj.DispersionModelObject=DispObject           #Assign Dispersion Object to the Unit Object\n",
    "UnitObj.DispersionModelObject.UnitObject=UnitObj   #Assign the UnitObject to the Dispersion Model\n",
    "UnitObj.DispersionModelObject.Calculate()      #Do Calculations\n",
    "\n",
    "print('\\n Dispersion Time=',UnitObj.DispersionModelObject.t_disp)\n",
    "print('\\n Liquid Dispersion Center at each Time=',UnitObj.DispersionModelObject.LiquidCenter)\n",
    "print('\\n Liquid Dispersion Radious =',max(UnitObj.DispersionModelObject.LiquidRadious), 'And handy Calculated Radius is=',PoolRadius)\n",
    "print('\\n Liquid Dispersion Thickness =',min(UnitObj.DispersionModelObject.LiquidThickness))\n",
    "\n"
   ]
  },
  {
   "cell_type": "code",
   "execution_count": null,
   "id": "230d7dfb",
   "metadata": {
    "scrolled": false
   },
   "outputs": [],
   "source": [
    "print('Gas Concentration For a point=',UnitObj.DispersionModelObject.GasConcentration(1,2,3))\n",
    "print('The Answer should be None because the selected dispersion model is LiquidSpread and just used for dispersion of liquids.')"
   ]
  },
  {
   "cell_type": "code",
   "execution_count": null,
   "id": "ddd3117c",
   "metadata": {},
   "outputs": [],
   "source": [
    "#Verification for Pool Liquid Spread With considering a dike\n",
    "opr.wipe()\n",
    "\n",
    "SiteTAg=1\n",
    "opr.Sites.Site(SiteTAg, Temperature=40,Pressure=1*10197.16)\n",
    "\n",
    "#Define Material\n",
    "Subsobj=opr.Substance.DataBank.CasCalEx2_1(tag=1)\n",
    "\n",
    "#Define Outflow Models\n",
    "OutFlowObj=opr.OutFlowModel.TankHole(tag=1, Hole_Diameter=0.1, Hole_Height_FromBot=0, delta_t=100, Cd=1)\n",
    "\n",
    "#Define Dispesion Spread Models and their connections to the materials and outflows\n",
    "DispObject=opr.DispersionSpreadModels.LiquidSpread(tag=1, MatTags=[1], OutFlowModelTags=[1],\n",
    "                                                   MinDisThickness=0.005,Surface_Roughnesslist=[0.1,0.2,0.3],\n",
    "                                                   Surface_RoughnessThickness=[0.01,0.015,0.02])\n",
    "#Define Dike Object\n",
    "Adike=5000\n",
    "opr.Safety.Dike(tag=1,Height=2, Area=Adike)\n",
    "\n",
    "#Define Plant Unit\n",
    "UnitObj=opr.PlantUnits.ONGStorage(1,SiteTag=SiteTAg,DikeTag=1,\n",
    "                                    Horizontal_localPosition=10,Vertical_localPosition=15,\n",
    "                                    Diameter=5,Height=10,\n",
    "                                    SubstanceTag=1,SubstanceVolumeRatio=0.85,Surface_Roughness=0.2)\n",
    "\n",
    "#Handy Calculations\n",
    "VSubs=3.1415*5**2/4*10*0.85\n",
    "MassSub=Subsobj.Density*VSubs\n",
    "PoolRadius=(Adike*4/3.1415)**0.5/2\n",
    "\n",
    "#These steps will be done Automatically By the Program inside the Analysis Part\n",
    "UnitObj.OutFlowModelObject=deepcopy(OutFlowObj)  #Assign OutFlow Model to Unit Object\n",
    "UnitObj.OutFlowModelObject.UnitObject=UnitObj\n",
    "UnitObj.OutFlowModelObject.Calculate();          #Calculate OutFlow Calculations to get \n",
    "\n",
    "\n",
    "UnitObj.DispersionModelObject=DispObject           #Assign Dispersion Object to the Unit Object\n",
    "UnitObj.DispersionModelObject.UnitObject=UnitObj   #Assign the UnitObject to the Dispersion Model\n",
    "UnitObj.DispersionModelObject.Calculate()      #Do Calculations\n",
    "\n",
    "print('\\n Dispersion Time=',UnitObj.DispersionModelObject.t_disp)\n",
    "print('\\n Liquid Dispersion Center at each Time=',UnitObj.DispersionModelObject.LiquidCenter)\n",
    "print('\\n Liquid Dispersion Radious =',max(UnitObj.DispersionModelObject.LiquidRadious), 'And handy Calculated Radius is=',PoolRadius)"
   ]
  }
 ],
 "metadata": {
  "kernelspec": {
   "display_name": "Python 3 (ipykernel)",
   "language": "python",
   "name": "python3"
  },
  "language_info": {
   "codemirror_mode": {
    "name": "ipython",
    "version": 3
   },
   "file_extension": ".py",
   "mimetype": "text/x-python",
   "name": "python",
   "nbconvert_exporter": "python",
   "pygments_lexer": "ipython3",
   "version": "3.11.5"
  },
  "vp": {
   "vp_config_version": "1.0.0",
   "vp_menu_width": 273,
   "vp_note_display": false,
   "vp_note_width": 0,
   "vp_position": {
    "width": 278
   },
   "vp_section_display": false,
   "vp_signature": "VisualPython"
  }
 },
 "nbformat": 4,
 "nbformat_minor": 5
}
