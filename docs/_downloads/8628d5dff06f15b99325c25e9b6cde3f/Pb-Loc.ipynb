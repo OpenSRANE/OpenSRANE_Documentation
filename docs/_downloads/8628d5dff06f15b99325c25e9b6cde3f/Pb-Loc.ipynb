{
 "cells": [
  {
   "cell_type": "code",
   "execution_count": null,
   "id": "ba0644ce",
   "metadata": {},
   "outputs": [],
   "source": [
    "import opensrane as opr\n",
    "import matplotlib.pyplot as plt"
   ]
  },
  {
   "attachments": {},
   "cell_type": "markdown",
   "id": "906cf492",
   "metadata": {},
   "source": [
    "### In the following example the selection of the outflow models according to defined distribution has been checked for Pb-LOC class:"
   ]
  },
  {
   "cell_type": "code",
   "execution_count": null,
   "id": "da826cc3",
   "metadata": {},
   "outputs": [],
   "source": [
    "#Verify Pb-LOC Distribution\n",
    "opr.wipe()\n",
    "\n",
    "#Define Some Imaginary Outflow Models\n",
    "tag=1\n",
    "opr.OutFlowModel.TankHole(tag, Hole_Diameter=0.05, Hole_Height_FromBot=0, delta_t=100, Cd=1)\n",
    "opr.OutFlowModel.TankHole(2, Hole_Diameter=0.01, Hole_Height_FromBot=1, delta_t=150, Cd=0.62)\n",
    "opr.OutFlowModel.TankHole(3, Hole_Diameter=0.5, Hole_Height_FromBot=0.5, delta_t=100, Cd=0.62)\n",
    "opr.OutFlowModel.Liquid10min(4)\n",
    "opr.OutFlowModel.Liquid10min(5)\n",
    "\n",
    "#Define a DS_LOC \n",
    "DSLOCOBJ=opr.Connectors.Pb_LOC(tag=1,ProbitTag=1,OutFlowModelTagList=[1,4,3],LOCProbabilityList=[6,3,1]) \n",
    "\n",
    "Generated=[]\n",
    "for i in range(100):\n",
    "    N=1000\n",
    "    rslt=dict()\n",
    "    rslt={i:0 for i in DSLOCOBJ.OutFlowModelTagList}\n",
    "    for i in range(N):\n",
    "        obj=DSLOCOBJ.Give1OutFlowModel()\n",
    "        rslt[obj.tag]=rslt[obj.tag]+1\n",
    "\n",
    "    for i,j in rslt.items():\n",
    "        rslt[i]=j/N\n",
    "    \n",
    "    Generated.append(rslt)\n",
    "\n",
    "\n",
    "plt.figure()\n",
    "\n",
    "plt.plot([0.6 for i in Generated], color='green',linestyle='dashed')\n",
    "plt.plot([0.3 for i in Generated], color='green',linestyle='dashed')\n",
    "plt.plot([0.1 for i in Generated], color='green',linestyle='dashed')\n",
    "\n",
    "plt.plot([i[1] for i in Generated], label='Reults for OutFlow 1 with Probability 0.6')\n",
    "plt.plot([i[4] for i in Generated], label='Reults for OutFlow 4 with Probability 0.3')\n",
    "plt.plot([i[3] for i in Generated], label='Reults for OutFlow 3 with Probability 0.1')\n",
    "\n",
    "plt.title('Resutls of 1000 sampling in 100 repeating test')\n",
    "plt.xlabel('Test Number')\n",
    "plt.ylabel('Frequency of Occurance')\n",
    "plt.ylim(0,0.8)\n",
    "plt.legend(loc=2,fontsize = 9);\n"
   ]
  }
 ],
 "metadata": {
  "kernelspec": {
   "display_name": "Python 3 (ipykernel)",
   "language": "python",
   "name": "python3"
  },
  "language_info": {
   "codemirror_mode": {
    "name": "ipython",
    "version": 3
   },
   "file_extension": ".py",
   "mimetype": "text/x-python",
   "name": "python",
   "nbconvert_exporter": "python",
   "pygments_lexer": "ipython3",
   "version": "3.11.5"
  },
  "vp": {
   "vp_config_version": "1.0.0",
   "vp_menu_width": 273,
   "vp_note_display": false,
   "vp_note_width": 0,
   "vp_position": {
    "width": 278
   },
   "vp_section_display": false,
   "vp_signature": "VisualPython"
  }
 },
 "nbformat": 4,
 "nbformat_minor": 5
}
