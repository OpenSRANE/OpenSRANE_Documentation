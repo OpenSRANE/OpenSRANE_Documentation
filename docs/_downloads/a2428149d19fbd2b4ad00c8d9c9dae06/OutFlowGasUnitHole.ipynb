{
 "cells": [
  {
   "cell_type": "code",
   "execution_count": null,
   "id": "5deb82b1",
   "metadata": {},
   "outputs": [],
   "source": [
    "import opensrane as opr\n",
    "import matplotlib.pyplot as plt"
   ]
  },
  {
   "attachments": {},
   "cell_type": "markdown",
   "id": "bd058c48",
   "metadata": {},
   "source": [
    "## GasUnitHole Model\n",
    "### A OutFlow Model From Casal Book Part 2.3.1\n",
    "\n",
    "To calculate constant Gas OutFlow rate from a vessel or tank that contains gas"
   ]
  },
  {
   "cell_type": "code",
   "execution_count": null,
   "id": "ca3605cc",
   "metadata": {},
   "outputs": [],
   "source": [
    "opr.wipe()\n",
    "\n",
    "#Define Site properties\n",
    "opr.Sites.Site(tag=1, Temperature=20+273, Pressure=1.013*10**5,  g=9.81,    OngroundTemprature=20, Airdensity=1.21)\n",
    "\n",
    "#define substance \n",
    "propane=1\n",
    "opr.Substance.Material(propane,Specific_Heat_Ratio=1.15,Molecular_Weight=44.1/1000,GasDensity=1.808)\n",
    "\n",
    "#define outflow model\n",
    "OutFlowObj1=opr.OutFlowModel.GasUnitHole(1, Hole_Diameter=0.02, Total_t=20, Cd=0.62, Gas_Constant=8.31446261815324,)\n",
    "OutFlowObj2=opr.OutFlowModel.GasUnitHole(2, Hole_Diameter=0.02, Total_t=40, Cd=1, Gas_Constant=8.31446261815324,)\n",
    "\n",
    "#define plant unit object\n",
    "UniObj=opr.PlantUnits.ONGStorage( tag=1, SiteTag=1, SubstanceTag=1, Pressure=10*10**5,  Temperature=25+273, SubstanceVolumeRatio=1,\n",
    "                                  Diameter=10, Height=10)\n",
    "\n",
    "#Assign outflow object to the plant unit handy and call the calculation method\n",
    "UniObj.OutFlowModelObject=OutFlowObj1\n",
    "UniObj.OutFlowModelObject.UnitObject=UniObj\n",
    "UniObj.OutFlowModelObject.Calculate()\n",
    "\n",
    "#get some of the calculation results\n",
    "mdot=UniObj.OutFlowModelObject.MassGasReleaseRate\n",
    "mTotal=UniObj.OutFlowModelObject.TotalMassGas_Release\n",
    "print('For Cd=0.62 the mass outflow rate = ', mdot[1],' and the total released mass =',mTotal[-1])\n",
    "\n",
    "#Check for second case\n",
    "UniObj.OutFlowModelObject=OutFlowObj2\n",
    "UniObj.OutFlowModelObject.UnitObject=UniObj\n",
    "UniObj.OutFlowModelObject.Calculate()\n",
    "mdot=UniObj.OutFlowModelObject.MassGasReleaseRate\n",
    "mTotal=UniObj.OutFlowModelObject.TotalMassGas_Release\n",
    "print('For Cd=1 the mass outflow rate = ', mdot[1],' and the total released mass =',mTotal[-1])\n",
    "\n",
    "print('Results are compatible with casal outflow rate results on example 2.3 that for cd=0.62 md=0.525 and for cd=1 md=0.847')\n",
    "\n",
    "\n"
   ]
  }
 ],
 "metadata": {
  "kernelspec": {
   "display_name": "Python 3 (ipykernel)",
   "language": "python",
   "name": "python3"
  },
  "language_info": {
   "codemirror_mode": {
    "name": "ipython",
    "version": 3
   },
   "file_extension": ".py",
   "mimetype": "text/x-python",
   "name": "python",
   "nbconvert_exporter": "python",
   "pygments_lexer": "ipython3",
   "version": "3.9.13"
  },
  "vp": {
   "vp_config_version": "1.0.0",
   "vp_menu_width": 273,
   "vp_note_display": false,
   "vp_note_width": 0,
   "vp_position": {
    "width": 278
   },
   "vp_section_display": false,
   "vp_signature": "VisualPython"
  }
 },
 "nbformat": 4,
 "nbformat_minor": 5
}
