{
 "cells": [
  {
   "cell_type": "code",
   "execution_count": null,
   "id": "45cdb907",
   "metadata": {},
   "outputs": [],
   "source": [
    "import opensrane as opr\n",
    "import matplotlib.pyplot as plt"
   ]
  },
  {
   "attachments": {},
   "cell_type": "markdown",
   "id": "709317e0",
   "metadata": {},
   "source": [
    "### fire_point_source (Physical Effect Model)\n",
    "#### casal Point Source Fire Radiation\n",
    "\n",
    "Verification with casal book Example 3.4 \n",
    "\n",
    "ATTENTION: PARAMETERS ARE SET HOW THE OTHE VALUES BECOME EQUAL TO THE casal EXAMPLE 3.4 HYPOTHESISES"
   ]
  },
  {
   "cell_type": "code",
   "execution_count": null,
   "id": "3cb24a99",
   "metadata": {
    "scrolled": false
   },
   "outputs": [],
   "source": [
    "opr.wipe()\n",
    "\n",
    "#Define Wind Rose \n",
    "windobj=opr.WindData.WindRose(1)\n",
    "windobj.WindSpeed=0\n",
    "windobj.WindDirection=90\n",
    "\n",
    "#Define Site Condition and Geometry\n",
    "SiteTAg=1\n",
    "obj=opr.Sites.Site(SiteTAg, Temperature=16+273, Pressure=1*10**5, XSiteBoundary=[0,100,100,0], YSiteBoundary=[0,0,100,100],\n",
    "                   g=9.81,Humidity=0.79,Airdensity=0.270)\n",
    "\n",
    "#Define Substance\n",
    "subsobj=opr.Substance.DataBank.Butene(1) #Use DataBank to Load Material\n",
    "subsobj.Specific_Heat_of_Combustion=41900*1000\n",
    "\n",
    "#Define OutFlow Model\n",
    "OutflowObj=opr.OutFlowModel.TankHole(1, Hole_Diameter=0.05, Hole_Height_FromBot=0, delta_t=500, Cd=1)\n",
    "#Define Dispersion Model\n",
    "DispObj=opr.DispersionSpreadModels.LiquidSpread(tag=1, MatTags=[1], OutFlowModelTags=[1],MinDisThickness=0.005,)\n",
    "\n",
    "#Define Dike for Tanks\n",
    "opr.Safety.Dike(1,0,3.1415*6**2/4)\n",
    "\n",
    "\n",
    "PlantObj=opr.PlantUnits.ONGStorage(1,SiteTag=1,DikeTag=1, SubstanceTag=1,    Diameter=10,    \n",
    "                                   Horizontal_localPosition=0,    Vertical_localPosition=0,\n",
    "                                   Height=20,SubstanceVolumeRatio=0.9)\n",
    "\n",
    "#Manually define OutFlow Model for above Unit Object\n",
    "PlantObj.OutFlowModelObject=OutflowObj\n",
    "OutflowObj.UnitObject=PlantObj\n",
    "PlantObj.OutFlowModelObject.Calculate()\n",
    "\n",
    "\n",
    "#Manually define DispersionSpread Model for above Unit Object\n",
    "PlantObj.DispersionSpreadModelObject=DispObj\n",
    "PlantObj.DispersionSpreadModelObject.UnitObject=PlantObj\n",
    "PlantObj.DispersionSpreadModelObject.Calculate()\n",
    "\n",
    "\n",
    "obj=opr.PhysicalEffect.fire_point_source(1,minf=0.0501,k=1.5)\n",
    "obj.UnitObject=PlantObj\n",
    "[H,Hmax,D,Dprin,alpha,m]=obj._fireGeometry()\n",
    "[Lp,d,phi,xf,yf]=obj._DistanceToFireCenterGeometry(18,0,1.6)\n",
    "  \n",
    "\n",
    "print('H,D,m=',round(H,2),round(D,2),round(m,2))\n",
    "print('Lp,d,phi=',round(Lp,2),round(d,2),round(phi,2))\n",
    "\n",
    "print('Thermal Radiation intensity=',obj.Thermal_Radiation_at_Point(18,0,1.6) )"
   ]
  },
  {
   "cell_type": "code",
   "execution_count": null,
   "id": "a0e31eb7",
   "metadata": {},
   "outputs": [],
   "source": [
    "print('in casal Example 3.4, \\nD=6 m \\nH=11.5\\nPoint coordinate=[18,0,1.6] \\nHeat Of Combustion=41900*10^3\\nHumidity=0.79\\nm=0.05')\n",
    "print()\n",
    "print('And the result Thermal Radiation intensity= 2800 W/m^2')\n",
    "print('That is compatible with the above results!')"
   ]
  },
  {
   "cell_type": "markdown",
   "id": "18551aab",
   "metadata": {},
   "source": [
    "### Check the Variation of the Heat Radiation respect to the distance of the point"
   ]
  },
  {
   "cell_type": "code",
   "execution_count": null,
   "id": "50aba77b",
   "metadata": {
    "scrolled": false
   },
   "outputs": [],
   "source": [
    "# obj.UnitObject.Hlocalcoord=3000\n",
    "# obj.UnitObject.Vlocalcoord=4000\n",
    "\n",
    "\n",
    "X=[i*5 for i in range(-100,100)]\n",
    "\n",
    "I=[]\n",
    "Lp=[]\n",
    "DD=[]\n",
    "Phi=[]\n",
    "for x in X:\n",
    "\n",
    "    i=obj.Thermal_Radiation_at_Point(x,0,0)\n",
    "    I.append(i)\n",
    "\n",
    "\n",
    "plt.figure(0)\n",
    "plt.plot(X,I)\n",
    "plt.xlabel('Horizontal Distance')\n",
    "plt.ylabel('Thermal Radiation (W/m^2)')\n",
    "\n",
    "\n",
    "\n",
    "\n",
    "Z=[i*5 for i in range(-100,100)]\n",
    "\n",
    "I=[]\n",
    "Lp=[]\n",
    "DD=[]\n",
    "Phi=[]\n",
    "for z in Z:\n",
    "    i=obj.Thermal_Radiation_at_Point(5,0,z)\n",
    "    I.append(i)\n",
    "    \n",
    "plt.figure(1)\n",
    "plt.plot(Z,I)\n",
    "plt.xlabel('Vertical Distance')\n",
    "plt.ylabel('Thermal Radiation (W/m^2)');"
   ]
  }
 ],
 "metadata": {
  "kernelspec": {
   "display_name": "Python 3 (ipykernel)",
   "language": "python",
   "name": "python3"
  },
  "language_info": {
   "codemirror_mode": {
    "name": "ipython",
    "version": 3
   },
   "file_extension": ".py",
   "mimetype": "text/x-python",
   "name": "python",
   "nbconvert_exporter": "python",
   "pygments_lexer": "ipython3",
   "version": "3.11.5"
  },
  "vp": {
   "vp_config_version": "1.0.0",
   "vp_menu_width": 273,
   "vp_note_display": false,
   "vp_note_width": 0,
   "vp_position": {
    "width": 278
   },
   "vp_section_display": false,
   "vp_signature": "VisualPython"
  }
 },
 "nbformat": 4,
 "nbformat_minor": 5
}
